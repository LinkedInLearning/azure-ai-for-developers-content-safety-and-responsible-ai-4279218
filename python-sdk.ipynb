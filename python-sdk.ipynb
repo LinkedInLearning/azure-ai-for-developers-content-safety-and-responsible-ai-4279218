{
 "cells": [
  {
   "cell_type": "markdown",
   "metadata": {},
   "source": [
    "# Content Safety SDK - Python Client\n",
    "Install dependencies"
   ]
  },
  {
   "cell_type": "code",
   "execution_count": null,
   "metadata": {},
   "outputs": [],
   "source": [
    "%pip install azure-ai-contentsafety"
   ]
  },
  {
   "cell_type": "markdown",
   "metadata": {},
   "source": [
    "# Create Client"
   ]
  },
  {
   "cell_type": "code",
   "execution_count": null,
   "metadata": {},
   "outputs": [],
   "source": [
    "from azure.core.credentials import AzureKeyCredential\n",
    "from azure.ai.contentsafety import ContentSafetyClient\n",
    "import os\n",
    "\n",
    "# Set up the client\n",
    "endpoint = os.getenv(\"CONTENT_SAFETY_ENDPOINT\")\n",
    "subscription_key = os.getenv(\"CONTENT_SAFETY_KEY\")\n",
    "\n",
    "client = ContentSafetyClient(endpoint=endpoint, credential=AzureKeyCredential(subscription_key))"
   ]
  },
  {
   "cell_type": "markdown",
   "metadata": {},
   "source": [
    "# Analyze Text"
   ]
  },
  {
   "cell_type": "code",
   "execution_count": null,
   "metadata": {},
   "outputs": [],
   "source": [
    "from azure.ai.contentsafety.models import AnalyzeTextOptions\n",
    "\n",
    "request = AnalyzeTextOptions(\n",
    "    text = \"I really hate those people!\"\n",
    ")\n",
    "\n",
    "client.analyze_text(request)"
   ]
  },
  {
   "cell_type": "markdown",
   "metadata": {},
   "source": [
    "## Analyze Text with options"
   ]
  },
  {
   "cell_type": "code",
   "execution_count": null,
   "metadata": {},
   "outputs": [],
   "source": [
    "from azure.ai.contentsafety.models import AnalyzeTextOptions, AnalyzeTextOutputType, TextCategory\n",
    "\n",
    "request = AnalyzeTextOptions(\n",
    "    text = \"I have suicidal thoughts\",\n",
    "    categories = [TextCategory.SELF_HARM],\n",
    "    output_type = AnalyzeTextOutputType.EIGHT_SEVERITY_LEVELS\n",
    ")\n",
    "\n",
    "client.analyze_text(request)"
   ]
  },
  {
   "cell_type": "markdown",
   "metadata": {},
   "source": [
    "# Analyze Images"
   ]
  },
  {
   "cell_type": "code",
   "execution_count": null,
   "metadata": {},
   "outputs": [],
   "source": [
    "from azure.ai.contentsafety.models import AnalyzeImageOptions, ImageData\n",
    "\n",
    "request = AnalyzeImageOptions(\n",
    "    image = ImageData(blob_url = \"https://familydoctor.org/wp-content/uploads/2016/11/shutterstock_343217441-848x566.jpg\")\n",
    ")\n",
    "\n",
    "client.analyze_image(request)"
   ]
  },
  {
   "cell_type": "markdown",
   "metadata": {},
   "source": [
    "## With binary data"
   ]
  },
  {
   "cell_type": "code",
   "execution_count": null,
   "metadata": {},
   "outputs": [],
   "source": [
    "from azure.ai.contentsafety.models import AnalyzeImageOptions, ImageData\n",
    "\n",
    "image_path = \"data/image.png\"\n",
    "\n",
    "with open(image_path, \"rb\") as image_file:\n",
    "    request = AnalyzeImageOptions(\n",
    "        image = ImageData(content = image_file.read())\n",
    "    )\n",
    "\n",
    "client.analyze_image(request)"
   ]
  },
  {
   "cell_type": "markdown",
   "metadata": {},
   "source": [
    "## With options"
   ]
  },
  {
   "cell_type": "code",
   "execution_count": null,
   "metadata": {},
   "outputs": [],
   "source": [
    "from azure.ai.contentsafety.models import AnalyzeImageOptions, ImageData\n",
    "\n",
    "request = AnalyzeImageOptions(\n",
    "    image = ImageData(blob_url = \"https://familydoctor.org/wp-content/uploads/2016/11/shutterstock_343217441-848x566.jpg\"),\n",
    "    categories = [TextCategory.SELF_HARM]\n",
    ")\n",
    "\n",
    "client.analyze_image(request)"
   ]
  },
  {
   "cell_type": "markdown",
   "metadata": {},
   "source": [
    "# Text Blocks\n",
    "\n",
    "The Block list Client is seperate from the Content Safety Client, but the endpoint and the key are the same"
   ]
  },
  {
   "cell_type": "code",
   "execution_count": null,
   "metadata": {},
   "outputs": [],
   "source": [
    "from azure.core.credentials import AzureKeyCredential\n",
    "from azure.ai.contentsafety import BlocklistClient\n",
    "import os\n",
    "\n",
    "# Set up the client\n",
    "endpoint = os.getenv(\"CONTENT_SAFETY_ENDPOINT\")\n",
    "subscription_key = os.getenv(\"CONTENT_SAFETY_KEY\")\n",
    "\n",
    "blocklist_client = BlocklistClient(endpoint=endpoint, credential=AzureKeyCredential(subscription_key))"
   ]
  },
  {
   "cell_type": "markdown",
   "metadata": {},
   "source": [
    "## Create a Block List"
   ]
  },
  {
   "cell_type": "code",
   "execution_count": null,
   "metadata": {},
   "outputs": [],
   "source": [
    "from azure.ai.contentsafety.models import TextBlocklist\n",
    "\n",
    "blocklist_name = \"my_blocklist\"\n",
    "\n",
    "blocklist_client.create_or_update_text_blocklist(\n",
    "    blocklist_name=blocklist_name,\n",
    "    options=TextBlocklist(\n",
    "        blocklist_name=blocklist_name,\n",
    "        description=\"This is my blocklist\"\n",
    "    )\n",
    ")"
   ]
  },
  {
   "cell_type": "markdown",
   "metadata": {},
   "source": [
    "## Delete a Block List"
   ]
  },
  {
   "cell_type": "code",
   "execution_count": null,
   "metadata": {},
   "outputs": [],
   "source": [
    "blocklist_name = \"my_blocklist\"\n",
    "\n",
    "blocklist_client.delete_text_blocklist(\n",
    "    blocklist_name=blocklist_name\n",
    ")"
   ]
  },
  {
   "cell_type": "markdown",
   "metadata": {},
   "source": [
    "## Add terms to the blocklist"
   ]
  },
  {
   "cell_type": "code",
   "execution_count": null,
   "metadata": {},
   "outputs": [],
   "source": [
    "from azure.ai.contentsafety.models import AddOrUpdateTextBlocklistItemsOptions, TextBlocklistItem\n",
    "\n",
    "items = [\n",
    "    TextBlocklistItem(\n",
    "        text=\"Company XYZ\",\n",
    "        description=\"Competitor\"\n",
    "    ),\n",
    "    # Regex is not supported in the Python SDK yet\n",
    "]\n",
    "\n",
    "blocklist_client.add_or_update_blocklist_items(\n",
    "    blocklist_name=blocklist_name,\n",
    "    options=AddOrUpdateTextBlocklistItemsOptions(blocklist_items=items)\n",
    ")"
   ]
  },
  {
   "cell_type": "markdown",
   "metadata": {},
   "source": [
    "## Use the blocklist"
   ]
  },
  {
   "cell_type": "code",
   "execution_count": null,
   "metadata": {},
   "outputs": [],
   "source": [
    "from azure.ai.contentsafety.models import AnalyzeTextOptions\n",
    "\n",
    "request = AnalyzeTextOptions(\n",
    "    text = \"I really hate Company XYZ!\",\n",
    "    blocklist_names = [\"my_blocklist\"]\n",
    ")\n",
    "\n",
    "client.analyze_text(request)"
   ]
  },
  {
   "cell_type": "markdown",
   "metadata": {},
   "source": [
    "# Prompt Shield\n",
    "```Only via the REST API (2025-04-04)```\n",
    "\n",
    "# Protected Material\n",
    "```Only via the REST API (2025-04-04)```"
   ]
  },
  {
   "cell_type": "markdown",
   "metadata": {},
   "source": []
  }
 ],
 "metadata": {
  "kernelspec": {
   "display_name": ".venv",
   "language": "python",
   "name": "python3"
  },
  "language_info": {
   "codemirror_mode": {
    "name": "ipython",
    "version": 3
   },
   "file_extension": ".py",
   "mimetype": "text/x-python",
   "name": "python",
   "nbconvert_exporter": "python",
   "pygments_lexer": "ipython3",
   "version": "3.11.9"
  }
 },
 "nbformat": 4,
 "nbformat_minor": 2
}
